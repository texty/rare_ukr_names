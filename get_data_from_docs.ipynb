{
 "cells": [
  {
   "cell_type": "code",
   "execution_count": 3,
   "metadata": {
    "ExecuteTime": {
     "end_time": "2021-11-23T14:16:06.933575Z",
     "start_time": "2021-11-23T14:16:06.506814Z"
    }
   },
   "outputs": [],
   "source": [
    "import pandas as pd\n",
    "import numpy as np\n",
    "import mammoth\n"
   ]
  },
  {
   "cell_type": "markdown",
   "metadata": {},
   "source": [
    "В шматку коду нижче нам потрібно отримати список файлів або список docx файлів, які ми хочемо розпарсити"
   ]
  },
  {
   "cell_type": "code",
   "execution_count": 4,
   "metadata": {
    "ExecuteTime": {
     "end_time": "2021-11-23T14:16:07.653394Z",
     "start_time": "2021-11-23T14:16:07.635612Z"
    }
   },
   "outputs": [],
   "source": [
    "names = ! ls docs"
   ]
  },
  {
   "cell_type": "code",
   "execution_count": 3,
   "metadata": {
    "ExecuteTime": {
     "end_time": "2021-10-11T10:23:59.648130Z",
     "start_time": "2021-10-11T10:23:59.630731Z"
    }
   },
   "outputs": [],
   "source": [
    "def convert_and_get(name):\n",
    "    f = open(name, 'rb')\n",
    "    t_converted = mammoth.convert_to_html(f)\n",
    "    \n",
    "    table = pd.read_html(t_converted.value)[0]\n",
    "    \n",
    "    table = table.rename(columns=table.iloc[0])\n",
    "    table = table.rename({\"Назва області\": \"Назва регіону\"}, axis=1)\n",
    "    table = table.drop(0, axis=0).reset_index(drop=True)\n",
    "    table['filename'] = name\n",
    "    \n",
    "    \n",
    "    return table.reset_index(drop=True)\n",
    "    \n",
    "    "
   ]
  },
  {
   "cell_type": "markdown",
   "metadata": {},
   "source": [
    "\"docs\" це назва папки, яка лежить в тій же папці, що і цей скрипт, а у ній знаходяться docx файли"
   ]
  },
  {
   "cell_type": "code",
   "execution_count": 4,
   "metadata": {
    "ExecuteTime": {
     "end_time": "2021-10-11T10:24:02.632549Z",
     "start_time": "2021-10-11T10:23:59.650996Z"
    }
   },
   "outputs": [],
   "source": [
    "all_tables = pd.concat([convert_and_get(\"docs/\"+d) for d in names])\n",
    "all_tables = all_tables.reset_index(drop=True)"
   ]
  },
  {
   "cell_type": "code",
   "execution_count": 5,
   "metadata": {
    "ExecuteTime": {
     "end_time": "2021-10-11T10:24:02.638920Z",
     "start_time": "2021-10-11T10:24:02.634675Z"
    }
   },
   "outputs": [],
   "source": [
    "all_tables['Назва регіону'] = all_tables['Назва регіону'].str.replace(\"область\", \"\").replace(\" область\", \"\")"
   ]
  },
  {
   "cell_type": "code",
   "execution_count": 6,
   "metadata": {
    "ExecuteTime": {
     "end_time": "2021-10-11T10:24:02.648027Z",
     "start_time": "2021-10-11T10:24:02.641244Z"
    }
   },
   "outputs": [],
   "source": [
    "#to get two lists\n",
    "\n",
    "def get_two_lists(string):\n",
    "    first = string.split(\" \")[0]\n",
    "    if (\"жіноч\" in first):\n",
    "        female, male =  string.split(\"чоловічі\")\n",
    "    else:\n",
    "        male, female =  string.split(\"жіночі\")\n",
    "    return [male, female]\n",
    "rare_names = all_tables['Рідковживані імена'].apply(lambda x: get_two_lists(x))\n",
    "rare_names.tolist()\n",
    "\n",
    "#to get two columns of female and male\n",
    "\n",
    "female_names = [ el[1] for el in rare_names]\n",
    "male_names = [ el[0] for el in rare_names]"
   ]
  },
  {
   "cell_type": "code",
   "execution_count": null,
   "metadata": {},
   "outputs": [],
   "source": []
  },
  {
   "cell_type": "code",
   "execution_count": 7,
   "metadata": {
    "ExecuteTime": {
     "end_time": "2021-10-11T10:24:02.657659Z",
     "start_time": "2021-10-11T10:24:02.649961Z"
    }
   },
   "outputs": [],
   "source": [
    "#to add it to general data set\n",
    "female_series = pd.Series(female_names) \n",
    "male_series = pd.Series(male_names) \n",
    "all_tables[\"female_rare\"] = female_series\n",
    "all_tables[\"male_rare\"] = male_series\n",
    "del all_tables[\"Рідковживані імена\"] \n",
    "del all_tables[\"Найпоширеніші імена\"] \n",
    "fifteen = all_tables.rename(columns = {'Назва регіону':'region'})"
   ]
  },
  {
   "cell_type": "code",
   "execution_count": 8,
   "metadata": {
    "ExecuteTime": {
     "end_time": "2021-10-11T10:24:02.673964Z",
     "start_time": "2021-10-11T10:24:02.659908Z"
    }
   },
   "outputs": [],
   "source": [
    "#take out the garbage from the columns \n",
    "fifteen['female_rare'] = fifteen['female_rare'].replace(['жіночі:','жіночі жіночі –', ': ',\n",
    "                                                         'жіночі – ' ],'', regex=True)\n",
    "fifteen['male_rare'] = fifteen['male_rare'].replace(['чоловічі:',':', ': ', 'чоловічі ',\n",
    "                                                    \";чоловічі\", \"; чоловічі – \", \"; – \"],'', regex=True)"
   ]
  },
  {
   "cell_type": "code",
   "execution_count": 9,
   "metadata": {
    "ExecuteTime": {
     "end_time": "2021-10-11T10:24:02.866708Z",
     "start_time": "2021-10-11T10:24:02.676158Z"
    }
   },
   "outputs": [],
   "source": [
    "def reshape_df(group):\n",
    "    region = group.region.tolist()[0]\n",
    "    filename = group.filename.tolist()[0]\n",
    "    names_all = []\n",
    "    for name in group.female_rare.str.split(\",\").tolist()[0]:\n",
    "        names_all.append({\"region\": region, \"name\": name, \"sex\": \"female\",\n",
    "                        \"filename\": filename  \n",
    "                         })\n",
    "        \n",
    "    for name in group.male_rare.str.split(\",\").tolist()[0]:\n",
    "        names_all.append({\"region\": region, \"name\": name, \"sex\": \"male\",\n",
    "                                                 \"filename\": filename  \n",
    "                         })\n",
    "        \n",
    "    return names_all\n",
    "            \n",
    "    \n",
    "\n",
    "reshaped_df = pd.DataFrame([dd for d in fifteen.groupby([\"region\",\n",
    "                                                         \"filename\"]).apply(reshape_df).tolist() for dd in d])\n",
    "\n",
    "def custom_pivot(group, all_regions):\n",
    "    regions_used = list(group['region'].unique())\n",
    "    \n",
    "    general_dict = {d:1 if d in regions_used else 0 for d in all_regions}\n",
    "    general_dict['name'] = group.name[0]\n",
    "    general_dict['sex'] = group.sex.tolist()[0]\n",
    "    general_dict['filename'] = group.filename.tolist()[0]\n",
    "    \n",
    "    return general_dict\n",
    "    \n",
    "    \n",
    "\n",
    "# pd.DataFrame(reshaped_df.groupby([\"name\", \"filename\"]).apply(custom_pivot, reshaped_df.region.unique()).tolist())"
   ]
  },
  {
   "cell_type": "code",
   "execution_count": 10,
   "metadata": {
    "ExecuteTime": {
     "end_time": "2021-10-11T10:24:02.906391Z",
     "start_time": "2021-10-11T10:24:02.869524Z"
    }
   },
   "outputs": [],
   "source": [
    "reshaped_df['name'] = reshaped_df.name.str.replace(\";\", \"\"\n",
    "                                                  ).str.replace(\":\", \"\"\n",
    "                                                               ).str.replace(\".\", \"\").str.replace(\",\", \"\")\n",
    "reshaped_df['name'] = reshaped_df.name.str.strip()"
   ]
  },
  {
   "cell_type": "code",
   "execution_count": 11,
   "metadata": {
    "ExecuteTime": {
     "end_time": "2021-10-11T10:24:02.942332Z",
     "start_time": "2021-10-11T10:24:02.908578Z"
    }
   },
   "outputs": [
    {
     "data": {
      "text/html": [
       "<div>\n",
       "<style scoped>\n",
       "    .dataframe tbody tr th:only-of-type {\n",
       "        vertical-align: middle;\n",
       "    }\n",
       "\n",
       "    .dataframe tbody tr th {\n",
       "        vertical-align: top;\n",
       "    }\n",
       "\n",
       "    .dataframe thead th {\n",
       "        text-align: right;\n",
       "    }\n",
       "</style>\n",
       "<table border=\"1\" class=\"dataframe\">\n",
       "  <thead>\n",
       "    <tr style=\"text-align: right;\">\n",
       "      <th></th>\n",
       "      <th>region</th>\n",
       "      <th>name</th>\n",
       "      <th>sex</th>\n",
       "      <th>filename</th>\n",
       "    </tr>\n",
       "  </thead>\n",
       "  <tbody>\n",
       "    <tr>\n",
       "      <th>589</th>\n",
       "      <td>Волинська</td>\n",
       "      <td>Мілан-Марк</td>\n",
       "      <td>male</td>\n",
       "      <td>docs/імена_2018_1.docx</td>\n",
       "    </tr>\n",
       "    <tr>\n",
       "      <th>735</th>\n",
       "      <td>Волинська</td>\n",
       "      <td>Санта-Марія</td>\n",
       "      <td>female</td>\n",
       "      <td>docs/імена_2020_2.docx</td>\n",
       "    </tr>\n",
       "    <tr>\n",
       "      <th>973</th>\n",
       "      <td>Вінницька</td>\n",
       "      <td>Мія-Тіна</td>\n",
       "      <td>female</td>\n",
       "      <td>docs/імена_2019_2.docx</td>\n",
       "    </tr>\n",
       "    <tr>\n",
       "      <th>977</th>\n",
       "      <td>Вінницька</td>\n",
       "      <td>Амадей-Богород</td>\n",
       "      <td>male</td>\n",
       "      <td>docs/імена_2019_2.docx</td>\n",
       "    </tr>\n",
       "    <tr>\n",
       "      <th>1119</th>\n",
       "      <td>Дніпропетровська</td>\n",
       "      <td>Адже-Регіна</td>\n",
       "      <td>female</td>\n",
       "      <td>docs/імена_2016_full.docx</td>\n",
       "    </tr>\n",
       "    <tr>\n",
       "      <th>...</th>\n",
       "      <td>...</td>\n",
       "      <td>...</td>\n",
       "      <td>...</td>\n",
       "      <td>...</td>\n",
       "    </tr>\n",
       "    <tr>\n",
       "      <th>12082</th>\n",
       "      <td>Чернігівська</td>\n",
       "      <td>Ангеліна-Айлін</td>\n",
       "      <td>female</td>\n",
       "      <td>docs/імена_2021_1.docx</td>\n",
       "    </tr>\n",
       "    <tr>\n",
       "      <th>12623</th>\n",
       "      <td>м. Київ</td>\n",
       "      <td>Квітка-Наталія</td>\n",
       "      <td>female</td>\n",
       "      <td>docs/імена_2017_full.docx</td>\n",
       "    </tr>\n",
       "    <tr>\n",
       "      <th>12685</th>\n",
       "      <td>м. Київ</td>\n",
       "      <td>Прохор-Джай</td>\n",
       "      <td>male</td>\n",
       "      <td>docs/імена_2017_full.docx</td>\n",
       "    </tr>\n",
       "    <tr>\n",
       "      <th>12779</th>\n",
       "      <td>м. Київ</td>\n",
       "      <td>Марія-Афродіта</td>\n",
       "      <td>female</td>\n",
       "      <td>docs/імена_2018_2.docx</td>\n",
       "    </tr>\n",
       "    <tr>\n",
       "      <th>12849</th>\n",
       "      <td>м. Київ</td>\n",
       "      <td>Квітка-Ярина</td>\n",
       "      <td>female</td>\n",
       "      <td>docs/імена_2019_1.docx</td>\n",
       "    </tr>\n",
       "  </tbody>\n",
       "</table>\n",
       "<p>236 rows × 4 columns</p>\n",
       "</div>"
      ],
      "text/plain": [
       "                 region            name     sex                   filename\n",
       "589           Волинська      Мілан-Марк    male     docs/імена_2018_1.docx\n",
       "735          Волинська      Санта-Марія  female     docs/імена_2020_2.docx\n",
       "973          Вінницька         Мія-Тіна  female     docs/імена_2019_2.docx\n",
       "977          Вінницька   Амадей-Богород    male     docs/імена_2019_2.docx\n",
       "1119   Дніпропетровська     Адже-Регіна  female  docs/імена_2016_full.docx\n",
       "...                 ...             ...     ...                        ...\n",
       "12082     Чернігівська   Ангеліна-Айлін  female     docs/імена_2021_1.docx\n",
       "12623           м. Київ  Квітка-Наталія  female  docs/імена_2017_full.docx\n",
       "12685           м. Київ     Прохор-Джай    male  docs/імена_2017_full.docx\n",
       "12779           м. Київ  Марія-Афродіта  female     docs/імена_2018_2.docx\n",
       "12849           м. Київ    Квітка-Ярина  female     docs/імена_2019_1.docx\n",
       "\n",
       "[236 rows x 4 columns]"
      ]
     },
     "execution_count": 11,
     "metadata": {},
     "output_type": "execute_result"
    }
   ],
   "source": [
    "reshaped_df[reshaped_df['name'].str.contains(\"-|—\")]"
   ]
  },
  {
   "cell_type": "code",
   "execution_count": 12,
   "metadata": {
    "ExecuteTime": {
     "end_time": "2021-10-11T10:24:02.965767Z",
     "start_time": "2021-10-11T10:24:02.946009Z"
    }
   },
   "outputs": [
    {
     "data": {
      "text/html": [
       "<div>\n",
       "<style scoped>\n",
       "    .dataframe tbody tr th:only-of-type {\n",
       "        vertical-align: middle;\n",
       "    }\n",
       "\n",
       "    .dataframe tbody tr th {\n",
       "        vertical-align: top;\n",
       "    }\n",
       "\n",
       "    .dataframe thead th {\n",
       "        text-align: right;\n",
       "    }\n",
       "</style>\n",
       "<table border=\"1\" class=\"dataframe\">\n",
       "  <thead>\n",
       "    <tr style=\"text-align: right;\">\n",
       "      <th></th>\n",
       "      <th>region</th>\n",
       "      <th>name</th>\n",
       "      <th>sex</th>\n",
       "      <th>filename</th>\n",
       "    </tr>\n",
       "  </thead>\n",
       "  <tbody>\n",
       "    <tr>\n",
       "      <th>6266</th>\n",
       "      <td>Миколаївська</td>\n",
       "      <td>Самуель (Самуіл)</td>\n",
       "      <td>male</td>\n",
       "      <td>docs/імена_2021_1.docx</td>\n",
       "    </tr>\n",
       "    <tr>\n",
       "      <th>6268</th>\n",
       "      <td>Миколаївська</td>\n",
       "      <td>Дамір (Демір)</td>\n",
       "      <td>male</td>\n",
       "      <td>docs/імена_2021_1.docx</td>\n",
       "    </tr>\n",
       "    <tr>\n",
       "      <th>6281</th>\n",
       "      <td>Миколаївська</td>\n",
       "      <td>Абдула (Абдулла)</td>\n",
       "      <td>male</td>\n",
       "      <td>docs/імена_2021_1.docx</td>\n",
       "    </tr>\n",
       "    <tr>\n",
       "      <th>6282</th>\n",
       "      <td>Миколаївська</td>\n",
       "      <td>Ренат (Рінат)</td>\n",
       "      <td>male</td>\n",
       "      <td>docs/імена_2021_1.docx</td>\n",
       "    </tr>\n",
       "  </tbody>\n",
       "</table>\n",
       "</div>"
      ],
      "text/plain": [
       "             region              name   sex                filename\n",
       "6266  Миколаївська   Самуель (Самуіл)  male  docs/імена_2021_1.docx\n",
       "6268  Миколаївська      Дамір (Демір)  male  docs/імена_2021_1.docx\n",
       "6281  Миколаївська   Абдула (Абдулла)  male  docs/імена_2021_1.docx\n",
       "6282  Миколаївська      Ренат (Рінат)  male  docs/імена_2021_1.docx"
      ]
     },
     "execution_count": 12,
     "metadata": {},
     "output_type": "execute_result"
    }
   ],
   "source": [
    "reshaped_df[reshaped_df['name'].str[-1] == ')']"
   ]
  },
  {
   "cell_type": "code",
   "execution_count": 48,
   "metadata": {
    "ExecuteTime": {
     "end_time": "2021-10-11T10:32:19.818261Z",
     "start_time": "2021-10-11T10:32:19.778104Z"
    }
   },
   "outputs": [],
   "source": [
    "reshaped_df.loc[reshaped_df['name'].str[0].str.contains(\"–|-\", na=False)\n",
    ", \"name\"] = reshaped_df.loc[reshaped_df['name'].str[0].str.contains(\"–|-\", na=False)\n",
    "].name.apply(lambda x: x.replace(\"–\", \"\").replace(\"-\", \"\").strip())"
   ]
  },
  {
   "cell_type": "code",
   "execution_count": 49,
   "metadata": {
    "ExecuteTime": {
     "end_time": "2021-10-11T10:32:20.588356Z",
     "start_time": "2021-10-11T10:32:20.572189Z"
    }
   },
   "outputs": [
    {
     "data": {
      "text/plain": [
       "А    1949\n",
       "М    1288\n",
       "Д     944\n",
       "С     921\n",
       "Л     885\n",
       "Е     873\n",
       "Р     741\n",
       "К     564\n",
       "В     562\n",
       "Т     540\n",
       "І     494\n",
       "Н     490\n",
       "Г     350\n",
       "Є     348\n",
       "О     334\n",
       "Я     302\n",
       "З     300\n",
       "Б     233\n",
       "Ф     207\n",
       "П     205\n",
       "Ю     117\n",
       "Ж     109\n",
       "У     101\n",
       "Х      63\n",
       "Й      57\n",
       "Ш      40\n",
       "Ц      29\n",
       "Ч      10\n",
       "ж       5\n",
       "Ґ       3\n",
       "И       1\n",
       "л       1\n",
       "Ї       1\n",
       "Name: name, dtype: int64"
      ]
     },
     "execution_count": 49,
     "metadata": {},
     "output_type": "execute_result"
    }
   ],
   "source": [
    "reshaped_df['name'].str[0].value_counts()"
   ]
  },
  {
   "cell_type": "code",
   "execution_count": 52,
   "metadata": {
    "ExecuteTime": {
     "end_time": "2021-10-11T10:33:21.056888Z",
     "start_time": "2021-10-11T10:33:21.016907Z"
    }
   },
   "outputs": [],
   "source": [
    "reshaped_df.drop(['embds', 'embds_one_array'], axis=1).to_csv(\"names_cleaned.csv\", index=False)"
   ]
  }
 ],
 "metadata": {
  "kernelspec": {
   "display_name": "Python 3",
   "language": "python",
   "name": "python3"
  },
  "language_info": {
   "codemirror_mode": {
    "name": "ipython",
    "version": 3
   },
   "file_extension": ".py",
   "mimetype": "text/x-python",
   "name": "python",
   "nbconvert_exporter": "python",
   "pygments_lexer": "ipython3",
   "version": "3.8.10"
  },
  "toc": {
   "base_numbering": 1,
   "nav_menu": {},
   "number_sections": true,
   "sideBar": true,
   "skip_h1_title": false,
   "title_cell": "Table of Contents",
   "title_sidebar": "Contents",
   "toc_cell": false,
   "toc_position": {},
   "toc_section_display": true,
   "toc_window_display": false
  }
 },
 "nbformat": 4,
 "nbformat_minor": 4
}
